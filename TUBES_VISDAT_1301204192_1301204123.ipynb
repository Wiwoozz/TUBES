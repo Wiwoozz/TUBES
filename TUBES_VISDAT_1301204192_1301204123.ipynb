{
  "nbformat": 4,
  "nbformat_minor": 0,
  "metadata": {
    "colab": {
      "provenance": []
    },
    "kernelspec": {
      "name": "python3",
      "display_name": "Python 3"
    },
    "language_info": {
      "name": "python"
    }
  },
  "cells": [
    {
      "cell_type": "markdown",
      "source": [
        "TUBES visdat\n",
        "\n",
        "-Yudhistira Imam praja - 1301204192\n",
        "\n",
        "-Dwina Sarah Delva - 1301204124\n"
      ],
      "metadata": {
        "id": "8Ldw5_gj6Qf3"
      }
    },
    {
      "cell_type": "code",
      "source": [
        "!pip install bokeh"
      ],
      "metadata": {
        "colab": {
          "base_uri": "https://localhost:8080/"
        },
        "id": "NF-buYHm5SMu",
        "outputId": "56be7563-8a6b-4b12-ee66-36c10f7c9b03"
      },
      "execution_count": 10,
      "outputs": [
        {
          "output_type": "stream",
          "name": "stdout",
          "text": [
            "Looking in indexes: https://pypi.org/simple, https://us-python.pkg.dev/colab-wheels/public/simple/\n",
            "Requirement already satisfied: bokeh in /usr/local/lib/python3.10/dist-packages (2.4.3)\n",
            "Requirement already satisfied: Jinja2>=2.9 in /usr/local/lib/python3.10/dist-packages (from bokeh) (3.1.2)\n",
            "Requirement already satisfied: numpy>=1.11.3 in /usr/local/lib/python3.10/dist-packages (from bokeh) (1.22.4)\n",
            "Requirement already satisfied: packaging>=16.8 in /usr/local/lib/python3.10/dist-packages (from bokeh) (23.1)\n",
            "Requirement already satisfied: pillow>=7.1.0 in /usr/local/lib/python3.10/dist-packages (from bokeh) (8.4.0)\n",
            "Requirement already satisfied: PyYAML>=3.10 in /usr/local/lib/python3.10/dist-packages (from bokeh) (6.0)\n",
            "Requirement already satisfied: tornado>=5.1 in /usr/local/lib/python3.10/dist-packages (from bokeh) (6.3.1)\n",
            "Requirement already satisfied: typing-extensions>=3.10.0 in /usr/local/lib/python3.10/dist-packages (from bokeh) (4.5.0)\n",
            "Requirement already satisfied: MarkupSafe>=2.0 in /usr/local/lib/python3.10/dist-packages (from Jinja2>=2.9->bokeh) (2.1.2)\n"
          ]
        }
      ]
    },
    {
      "cell_type": "code",
      "source": [
        "import pandas as pd\n",
        "from bokeh.io import curdoc\n",
        "from bokeh.plotting import figure, show\n",
        "from bokeh.models import HoverTool, ColumnDataSource, CategoricalColorMapper\n",
        "from bokeh.layouts import widgetbox, row\n",
        "from bokeh.models import Select, RangeSlider\n",
        "from datetime import date, datetime\n"
      ],
      "metadata": {
        "id": "qKXlNtzxrLYD"
      },
      "execution_count": 11,
      "outputs": []
    },
    {
      "cell_type": "code",
      "source": [
        "cov_data = pd.read_csv('covid_19_indonesia_time_series_all.csv')\n",
        "cov_data.head()"
      ],
      "metadata": {
        "colab": {
          "base_uri": "https://localhost:8080/",
          "height": 403
        },
        "id": "OySkOKARrN28",
        "outputId": "14d25910-4346-4cd8-c251-41d51d560a4c"
      },
      "execution_count": 12,
      "outputs": [
        {
          "output_type": "execute_result",
          "data": {
            "text/plain": [
              "       Date Location ISO Code     Location  New Cases  New Deaths  \\\n",
              "0  3/1/2020             ID-JK  DKI Jakarta          2           0   \n",
              "1  3/2/2020             ID-JK  DKI Jakarta          2           0   \n",
              "2  3/2/2020               IDN    Indonesia          2           0   \n",
              "3  3/2/2020             ID-RI         Riau          1           0   \n",
              "4  3/3/2020             ID-JK  DKI Jakarta          2           0   \n",
              "\n",
              "   New Recovered  New Active Cases  Total Cases  Total Deaths  \\\n",
              "0              0                 2           39            20   \n",
              "1              0                 2           41            20   \n",
              "2              0                 2            2             0   \n",
              "3              0                 1            1             0   \n",
              "4              0                 2           43            20   \n",
              "\n",
              "   Total Recovered  ...  Latitude New Cases per Million  \\\n",
              "0               75  ... -6.204699                  0.18   \n",
              "1               75  ... -6.204699                  0.18   \n",
              "2                0  ... -0.789275                  0.01   \n",
              "3                1  ...  0.511648                  0.16   \n",
              "4               75  ... -6.204699                  0.18   \n",
              "\n",
              "   Total Cases per Million New Deaths per Million Total Deaths per Million  \\\n",
              "0                     3.60                    0.0                     1.84   \n",
              "1                     3.78                    0.0                     1.84   \n",
              "2                     0.01                    0.0                     0.00   \n",
              "3                     0.16                    0.0                     0.00   \n",
              "4                     3.96                    0.0                     1.84   \n",
              "\n",
              "  Total Deaths per 100rb Case Fatality Rate Case Recovered Rate  \\\n",
              "0                   0.18             51.28%             192.31%   \n",
              "1                   0.18             48.78%             182.93%   \n",
              "2                   0.00              0.00%               0.00%   \n",
              "3                   0.00              0.00%             100.00%   \n",
              "4                   0.18             46.51%             174.42%   \n",
              "\n",
              "  Growth Factor of New Cases  Growth Factor of New Deaths  \n",
              "0                        NaN                          NaN  \n",
              "1                        1.0                          1.0  \n",
              "2                        NaN                          NaN  \n",
              "3                        NaN                          NaN  \n",
              "4                        1.0                          1.0  \n",
              "\n",
              "[5 rows x 38 columns]"
            ],
            "text/html": [
              "\n",
              "  <div id=\"df-62451b40-2e7a-446f-9af6-d9cb7c1cf4d9\">\n",
              "    <div class=\"colab-df-container\">\n",
              "      <div>\n",
              "<style scoped>\n",
              "    .dataframe tbody tr th:only-of-type {\n",
              "        vertical-align: middle;\n",
              "    }\n",
              "\n",
              "    .dataframe tbody tr th {\n",
              "        vertical-align: top;\n",
              "    }\n",
              "\n",
              "    .dataframe thead th {\n",
              "        text-align: right;\n",
              "    }\n",
              "</style>\n",
              "<table border=\"1\" class=\"dataframe\">\n",
              "  <thead>\n",
              "    <tr style=\"text-align: right;\">\n",
              "      <th></th>\n",
              "      <th>Date</th>\n",
              "      <th>Location ISO Code</th>\n",
              "      <th>Location</th>\n",
              "      <th>New Cases</th>\n",
              "      <th>New Deaths</th>\n",
              "      <th>New Recovered</th>\n",
              "      <th>New Active Cases</th>\n",
              "      <th>Total Cases</th>\n",
              "      <th>Total Deaths</th>\n",
              "      <th>Total Recovered</th>\n",
              "      <th>...</th>\n",
              "      <th>Latitude</th>\n",
              "      <th>New Cases per Million</th>\n",
              "      <th>Total Cases per Million</th>\n",
              "      <th>New Deaths per Million</th>\n",
              "      <th>Total Deaths per Million</th>\n",
              "      <th>Total Deaths per 100rb</th>\n",
              "      <th>Case Fatality Rate</th>\n",
              "      <th>Case Recovered Rate</th>\n",
              "      <th>Growth Factor of New Cases</th>\n",
              "      <th>Growth Factor of New Deaths</th>\n",
              "    </tr>\n",
              "  </thead>\n",
              "  <tbody>\n",
              "    <tr>\n",
              "      <th>0</th>\n",
              "      <td>3/1/2020</td>\n",
              "      <td>ID-JK</td>\n",
              "      <td>DKI Jakarta</td>\n",
              "      <td>2</td>\n",
              "      <td>0</td>\n",
              "      <td>0</td>\n",
              "      <td>2</td>\n",
              "      <td>39</td>\n",
              "      <td>20</td>\n",
              "      <td>75</td>\n",
              "      <td>...</td>\n",
              "      <td>-6.204699</td>\n",
              "      <td>0.18</td>\n",
              "      <td>3.60</td>\n",
              "      <td>0.0</td>\n",
              "      <td>1.84</td>\n",
              "      <td>0.18</td>\n",
              "      <td>51.28%</td>\n",
              "      <td>192.31%</td>\n",
              "      <td>NaN</td>\n",
              "      <td>NaN</td>\n",
              "    </tr>\n",
              "    <tr>\n",
              "      <th>1</th>\n",
              "      <td>3/2/2020</td>\n",
              "      <td>ID-JK</td>\n",
              "      <td>DKI Jakarta</td>\n",
              "      <td>2</td>\n",
              "      <td>0</td>\n",
              "      <td>0</td>\n",
              "      <td>2</td>\n",
              "      <td>41</td>\n",
              "      <td>20</td>\n",
              "      <td>75</td>\n",
              "      <td>...</td>\n",
              "      <td>-6.204699</td>\n",
              "      <td>0.18</td>\n",
              "      <td>3.78</td>\n",
              "      <td>0.0</td>\n",
              "      <td>1.84</td>\n",
              "      <td>0.18</td>\n",
              "      <td>48.78%</td>\n",
              "      <td>182.93%</td>\n",
              "      <td>1.0</td>\n",
              "      <td>1.0</td>\n",
              "    </tr>\n",
              "    <tr>\n",
              "      <th>2</th>\n",
              "      <td>3/2/2020</td>\n",
              "      <td>IDN</td>\n",
              "      <td>Indonesia</td>\n",
              "      <td>2</td>\n",
              "      <td>0</td>\n",
              "      <td>0</td>\n",
              "      <td>2</td>\n",
              "      <td>2</td>\n",
              "      <td>0</td>\n",
              "      <td>0</td>\n",
              "      <td>...</td>\n",
              "      <td>-0.789275</td>\n",
              "      <td>0.01</td>\n",
              "      <td>0.01</td>\n",
              "      <td>0.0</td>\n",
              "      <td>0.00</td>\n",
              "      <td>0.00</td>\n",
              "      <td>0.00%</td>\n",
              "      <td>0.00%</td>\n",
              "      <td>NaN</td>\n",
              "      <td>NaN</td>\n",
              "    </tr>\n",
              "    <tr>\n",
              "      <th>3</th>\n",
              "      <td>3/2/2020</td>\n",
              "      <td>ID-RI</td>\n",
              "      <td>Riau</td>\n",
              "      <td>1</td>\n",
              "      <td>0</td>\n",
              "      <td>0</td>\n",
              "      <td>1</td>\n",
              "      <td>1</td>\n",
              "      <td>0</td>\n",
              "      <td>1</td>\n",
              "      <td>...</td>\n",
              "      <td>0.511648</td>\n",
              "      <td>0.16</td>\n",
              "      <td>0.16</td>\n",
              "      <td>0.0</td>\n",
              "      <td>0.00</td>\n",
              "      <td>0.00</td>\n",
              "      <td>0.00%</td>\n",
              "      <td>100.00%</td>\n",
              "      <td>NaN</td>\n",
              "      <td>NaN</td>\n",
              "    </tr>\n",
              "    <tr>\n",
              "      <th>4</th>\n",
              "      <td>3/3/2020</td>\n",
              "      <td>ID-JK</td>\n",
              "      <td>DKI Jakarta</td>\n",
              "      <td>2</td>\n",
              "      <td>0</td>\n",
              "      <td>0</td>\n",
              "      <td>2</td>\n",
              "      <td>43</td>\n",
              "      <td>20</td>\n",
              "      <td>75</td>\n",
              "      <td>...</td>\n",
              "      <td>-6.204699</td>\n",
              "      <td>0.18</td>\n",
              "      <td>3.96</td>\n",
              "      <td>0.0</td>\n",
              "      <td>1.84</td>\n",
              "      <td>0.18</td>\n",
              "      <td>46.51%</td>\n",
              "      <td>174.42%</td>\n",
              "      <td>1.0</td>\n",
              "      <td>1.0</td>\n",
              "    </tr>\n",
              "  </tbody>\n",
              "</table>\n",
              "<p>5 rows × 38 columns</p>\n",
              "</div>\n",
              "      <button class=\"colab-df-convert\" onclick=\"convertToInteractive('df-62451b40-2e7a-446f-9af6-d9cb7c1cf4d9')\"\n",
              "              title=\"Convert this dataframe to an interactive table.\"\n",
              "              style=\"display:none;\">\n",
              "        \n",
              "  <svg xmlns=\"http://www.w3.org/2000/svg\" height=\"24px\"viewBox=\"0 0 24 24\"\n",
              "       width=\"24px\">\n",
              "    <path d=\"M0 0h24v24H0V0z\" fill=\"none\"/>\n",
              "    <path d=\"M18.56 5.44l.94 2.06.94-2.06 2.06-.94-2.06-.94-.94-2.06-.94 2.06-2.06.94zm-11 1L8.5 8.5l.94-2.06 2.06-.94-2.06-.94L8.5 2.5l-.94 2.06-2.06.94zm10 10l.94 2.06.94-2.06 2.06-.94-2.06-.94-.94-2.06-.94 2.06-2.06.94z\"/><path d=\"M17.41 7.96l-1.37-1.37c-.4-.4-.92-.59-1.43-.59-.52 0-1.04.2-1.43.59L10.3 9.45l-7.72 7.72c-.78.78-.78 2.05 0 2.83L4 21.41c.39.39.9.59 1.41.59.51 0 1.02-.2 1.41-.59l7.78-7.78 2.81-2.81c.8-.78.8-2.07 0-2.86zM5.41 20L4 18.59l7.72-7.72 1.47 1.35L5.41 20z\"/>\n",
              "  </svg>\n",
              "      </button>\n",
              "      \n",
              "  <style>\n",
              "    .colab-df-container {\n",
              "      display:flex;\n",
              "      flex-wrap:wrap;\n",
              "      gap: 12px;\n",
              "    }\n",
              "\n",
              "    .colab-df-convert {\n",
              "      background-color: #E8F0FE;\n",
              "      border: none;\n",
              "      border-radius: 50%;\n",
              "      cursor: pointer;\n",
              "      display: none;\n",
              "      fill: #1967D2;\n",
              "      height: 32px;\n",
              "      padding: 0 0 0 0;\n",
              "      width: 32px;\n",
              "    }\n",
              "\n",
              "    .colab-df-convert:hover {\n",
              "      background-color: #E2EBFA;\n",
              "      box-shadow: 0px 1px 2px rgba(60, 64, 67, 0.3), 0px 1px 3px 1px rgba(60, 64, 67, 0.15);\n",
              "      fill: #174EA6;\n",
              "    }\n",
              "\n",
              "    [theme=dark] .colab-df-convert {\n",
              "      background-color: #3B4455;\n",
              "      fill: #D2E3FC;\n",
              "    }\n",
              "\n",
              "    [theme=dark] .colab-df-convert:hover {\n",
              "      background-color: #434B5C;\n",
              "      box-shadow: 0px 1px 3px 1px rgba(0, 0, 0, 0.15);\n",
              "      filter: drop-shadow(0px 1px 2px rgba(0, 0, 0, 0.3));\n",
              "      fill: #FFFFFF;\n",
              "    }\n",
              "  </style>\n",
              "\n",
              "      <script>\n",
              "        const buttonEl =\n",
              "          document.querySelector('#df-62451b40-2e7a-446f-9af6-d9cb7c1cf4d9 button.colab-df-convert');\n",
              "        buttonEl.style.display =\n",
              "          google.colab.kernel.accessAllowed ? 'block' : 'none';\n",
              "\n",
              "        async function convertToInteractive(key) {\n",
              "          const element = document.querySelector('#df-62451b40-2e7a-446f-9af6-d9cb7c1cf4d9');\n",
              "          const dataTable =\n",
              "            await google.colab.kernel.invokeFunction('convertToInteractive',\n",
              "                                                     [key], {});\n",
              "          if (!dataTable) return;\n",
              "\n",
              "          const docLinkHtml = 'Like what you see? Visit the ' +\n",
              "            '<a target=\"_blank\" href=https://colab.research.google.com/notebooks/data_table.ipynb>data table notebook</a>'\n",
              "            + ' to learn more about interactive tables.';\n",
              "          element.innerHTML = '';\n",
              "          dataTable['output_type'] = 'display_data';\n",
              "          await google.colab.output.renderOutput(dataTable, element);\n",
              "          const docLink = document.createElement('div');\n",
              "          docLink.innerHTML = docLinkHtml;\n",
              "          element.appendChild(docLink);\n",
              "        }\n",
              "      </script>\n",
              "    </div>\n",
              "  </div>\n",
              "  "
            ]
          },
          "metadata": {},
          "execution_count": 12
        }
      ]
    },
    {
      "cell_type": "markdown",
      "source": [
        "** Preprocessing Data**"
      ],
      "metadata": {
        "id": "DX5V4uff5lqk"
      }
    },
    {
      "cell_type": "code",
      "execution_count": 13,
      "metadata": {
        "id": "M94vENverIIn"
      },
      "outputs": [],
      "source": [
        "# Selecting column usage\n",
        "df = cov_data.iloc[:,:12]\n",
        "\n",
        "# remove data with location level = Country\n",
        "idx = df[df['Location Level'] == 'Country'].index\n",
        "df.drop(idx, axis=0, inplace=True)\n"
      ]
    },
    {
      "cell_type": "code",
      "source": [
        "# remove unused columns\n",
        "col = ['Location ISO Code', 'New Cases', 'New Deaths', 'New Recovered', 'New Active Cases', 'Location Level']\n",
        "df.drop(col, axis=1, inplace=True)\n",
        "\n",
        "# rename columns\n",
        "col = {\n",
        "    'Total Cases': 'Total_Cases',\n",
        "    'Total Deaths': 'Total_Deaths',\n",
        "    'Total Recovered': 'Total_Recovered',\n",
        "    'Total Active Cases': 'Total_Active_Cases'}\n",
        "df.rename(col, axis=1, inplace=True)\n",
        "\n",
        "\n",
        "\n",
        "# convert string to datetime for column Date\n",
        "df['Date'] = pd.to_datetime(df['Date'], format='%m/%d/%Y')\n",
        "\n",
        "# make a new column for month and year\n",
        "df['month'] = pd.DatetimeIndex(df['Date']).month\n",
        "df['year'] = pd.DatetimeIndex(df['Date']).year\n"
      ],
      "metadata": {
        "id": "oK39ZCUp5p6Y"
      },
      "execution_count": 14,
      "outputs": []
    },
    {
      "cell_type": "markdown",
      "source": [
        "Bokeh Data Visualization"
      ],
      "metadata": {
        "id": "lfkB_iPk50Ts"
      }
    },
    {
      "cell_type": "code",
      "source": [
        "# Make a list of the unique values from index (provinsi)\n",
        "prov_list = list(df.Location.unique())\n",
        "\n",
        "# Make a color mapper: color_mapper\n",
        "color_mapper = CategoricalColorMapper(factors=prov_list)\n",
        "\n",
        "#Change datatype year from int to str\n",
        "df['year'] = df['year'].apply(str)\n",
        "\n",
        "\n",
        "# Make the ColumnDataSource: source\n",
        "source = ColumnDataSource(data={\n",
        "    'x'       : df['Date'].loc[(df.Location == 'DKI Jakarta') & (df.month.isin([i for i in range(3,6)])) & (df.year == '2020')],\n",
        "    'y'       : df['Total_Deaths'].loc[(df.Location == 'DKI Jakarta') & (df.month.isin([i for i in range(3,6)])) & (df.year == '2020')]\n",
        "    })\n"
      ],
      "metadata": {
        "id": "s8HGxWvQ50Gk"
      },
      "execution_count": 15,
      "outputs": []
    },
    {
      "cell_type": "markdown",
      "source": [
        "**updating data**"
      ],
      "metadata": {
        "id": "bAFZxAk_5773"
      }
    },
    {
      "cell_type": "code",
      "source": [
        "\n",
        "#Callback for updating data\n",
        "def callback(attr, old, new):\n",
        "    minMonth, maxMonth = slider.value\n",
        "    selectedLocation = loc_select.value\n",
        "    selectedData = data_select.value\n",
        "    selectedYear = yr_select.value\n",
        "\n",
        "    # Label axes of plot\n",
        "    plot.yaxis.axis_label = selectedData\n",
        "\n",
        "    # new data\n",
        "    new_data = {\n",
        "        'x'       : df['Date'].loc[(df.Location == selectedLocation) & (df.month.isin([i for i in range(int(minMonth),int(maxMonth+1))])) & (df.year == selectedYear)],\n",
        "        'y'       : df[selectedData].loc[(df.Location == selectedLocation) & (df.month.isin([i for i in range(int(minMonth),int(maxMonth+1))])) & (df.year == selectedYear)]\n",
        "    }\n",
        "    # updating source data to new data\n",
        "    source.data = new_data"
      ],
      "metadata": {
        "id": "6Z0buE2b59Ti"
      },
      "execution_count": 16,
      "outputs": []
    },
    {
      "cell_type": "markdown",
      "source": [
        "Plotting"
      ],
      "metadata": {
        "id": "tzzNkhcJ5_w_"
      }
    },
    {
      "cell_type": "code",
      "source": [
        "#Define figure usage\n",
        "plot = figure(title='Visualisasi Covid-19 per Provinsi', x_axis_label='Date', x_axis_type=\"datetime\", y_axis_label='Total_Deaths',\n",
        "           plot_height=400, plot_width=700)\n",
        "\n",
        "# plotting for line chart\n",
        "plot.line(x='x', y='y', source=source)\n",
        "\n",
        "#adding tools to chart\n",
        "plot.add_tools(HoverTool(\n",
        "    tooltips=[\n",
        "        ( 'date','@x{%F}'),\n",
        "        ( 'Value', '@y'),\n",
        "    ],\n",
        "\n",
        "    formatters={\n",
        "        '@x'      : 'datetime', # use 'datetime' formatter for 'date' field\n",
        "    },\n",
        "\n",
        "    # display a tooltip whenever the cursor is vertically in line with a glyph\n",
        "    mode='vline'\n",
        "))\n"
      ],
      "metadata": {
        "id": "0Ny_dtfo6Cz1"
      },
      "execution_count": 17,
      "outputs": []
    },
    {
      "cell_type": "markdown",
      "source": [
        "Bokeh widget"
      ],
      "metadata": {
        "id": "LzhR1uhi6FRQ"
      }
    },
    {
      "cell_type": "code",
      "source": [
        "#RangeSlider for selectedMonth\n",
        "slider = RangeSlider(start=1, end=12, step=1, value=(3,5), title='Bulan')\n",
        "slider.on_change('value',callback)\n"
      ],
      "metadata": {
        "id": "_mrzP0qb6Fn4"
      },
      "execution_count": 18,
      "outputs": []
    },
    {
      "cell_type": "code",
      "source": [
        "#Dropdown for selectedLocation\n",
        "loc_select = Select(\n",
        "    options= list(df.Location.unique()),\n",
        "    value='DKI Jakarta',\n",
        "    title='Provinsi'\n",
        ")\n",
        "loc_select.on_change('value', callback)\n",
        "\n",
        "#Dropdown for selectedYear\n",
        "yr_select = Select(\n",
        "    options= ['2020','2021'],\n",
        "    value='2020',\n",
        "    title='Tahun'\n",
        ")\n",
        "yr_select.on_change('value', callback)\n",
        "\n",
        "#Dropdown for selectedData\n",
        "data_select = Select(\n",
        "    options= [\"Total_Cases\",\"Total_Deaths\",\"Total_Recovered\",\"Total_Active_Cases\"],\n",
        "    value='Total_Deaths',\n",
        "    title='Data Covid-19'\n",
        ")\n",
        "data_select.on_change('value', callback)\n"
      ],
      "metadata": {
        "id": "7oEnwIja6KF3"
      },
      "execution_count": 19,
      "outputs": []
    },
    {
      "cell_type": "code",
      "source": [
        "# Creating layout\n",
        "layout = row(widgetbox(yr_select,slider,loc_select,data_select), plot)\n",
        "curdoc().add_root(layout)\n",
        "curdoc().title = 'Visualisasi Covid-19 per Provinsi'\n",
        "\n",
        "show(layout)"
      ],
      "metadata": {
        "colab": {
          "base_uri": "https://localhost:8080/"
        },
        "id": "IWKU61e86MPC",
        "outputId": "6003d6e5-21cd-46cf-932e-6c5833396f7b"
      },
      "execution_count": 20,
      "outputs": [
        {
          "output_type": "stream",
          "name": "stderr",
          "text": [
            "BokehDeprecationWarning: 'WidgetBox' is deprecated and will be removed in Bokeh 3.0, use 'bokeh.models.Column' instead\n",
            "WARNING:bokeh.embed.util:\n",
            "You are generating standalone HTML/JS output, but trying to use real Python\n",
            "callbacks (i.e. with on_change or on_event). This combination cannot work.\n",
            "\n",
            "Only JavaScript callbacks may be used with standalone output. For more\n",
            "information on JavaScript callbacks with Bokeh, see:\n",
            "\n",
            "    https://docs.bokeh.org/en/latest/docs/user_guide/interaction/callbacks.html\n",
            "\n",
            "Alternatively, to use real Python callbacks, a Bokeh server application may\n",
            "be used. For more information on building and running Bokeh applications, see:\n",
            "\n",
            "    https://docs.bokeh.org/en/latest/docs/user_guide/server.html\n",
            "\n"
          ]
        }
      ]
    }
  ]
}